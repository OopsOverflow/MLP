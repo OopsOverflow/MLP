{
 "cells": [
  {
   "cell_type": "markdown",
   "metadata": {},
   "source": [
    "# Deep Learning - Lab Exercise 2\n",
    "\n",
    "**WARNING:** you must have finished the first exercise before this one as you will re-use parts of the code.\n",
    "\n",
    "In the first lab exercise, we built a simple linear classifier.\n",
    "Although it can give reasonable results on the MNIST dataset (~92.5% of accuracy), deeper neural networks can achieve more the 99% accuracy.\n",
    "However, it can quickly become really impracical to explicitly code forward and backward passes.\n",
    "Hence, it is useful to rely on an auto-diff library where we specify the forward pass once, and the backward pass is automatically deduced from the computational graph structure.\n",
    "\n",
    "In this lab exercise, we will build a small and simple auto-diff lib that mimics the autograd mechanism from Pytorch (of course, we will simplify a lot!)"
   ]
  },
  {
   "cell_type": "code",
   "execution_count": 1,
   "metadata": {},
   "outputs": [],
   "source": [
    "# import libs that we will use\n",
    "import os\n",
    "import numpy as np\n",
    "import matplotlib.pyplot as plt\n",
    "import math\n",
    "\n",
    "# To load the data we will use the script of Gaetan Marceau Caron\n",
    "# You can download it from the course webiste and move it to the same directory that contains this ipynb file\n",
    "import dataset_loader\n",
    "\n",
    "%matplotlib inline"
   ]
  },
  {
   "cell_type": "markdown",
   "metadata": {},
   "source": []
  },
  {
   "cell_type": "markdown",
   "metadata": {},
   "source": [
    "# Data"
   ]
  },
  {
   "cell_type": "code",
   "execution_count": 2,
   "metadata": {},
   "outputs": [],
   "source": [
    "# Download mnist dataset \n",
    "#if(\"mnist.pkl.gz\" not in os.listdir(\".\")):\n",
    "    # this link doesn't work any more,\n",
    "    # seach on google for the file \"mnist.pkl.gz\"\n",
    "    # and download it\n",
    "    #!wget http://deeplearning.net/data/mnist/mnist.pkl.gz\n",
    "\n",
    "# if you have it somewhere else, you can comment the lines above\n",
    "# and overwrite the path below\n",
    "mnist_path = \"../mnist.pkl.gz\""
   ]
  },
  {
   "cell_type": "code",
   "execution_count": 3,
   "metadata": {},
   "outputs": [],
   "source": [
    "# load the 3 splits\n",
    "train_data, dev_data, test_data = dataset_loader.load_mnist(mnist_path)"
   ]
  },
  {
   "cell_type": "code",
   "execution_count": 4,
   "metadata": {},
   "outputs": [
    {
     "name": "stdout",
     "output_type": "stream",
     "text": [
      "label: 0\n"
     ]
    },
    {
     "data": {
      "text/plain": "<Figure size 432x288 with 1 Axes>",
      "image/png": "[encoded data removed]"
     },
     "metadata": {
      "needs_background": "light"
     },
     "output_type": "display_data"
    }
   ],
   "source": [
    "index = 900\n",
    "label = train_data[1][index]\n",
    "picture = train_data[0][index]\n",
    "\n",
    "print(\"label: %i\" % label)\n",
    "plt.imshow(picture.reshape(28,28), cmap='Greys');"
   ]
  },
  {
   "cell_type": "markdown",
   "metadata": {},
   "source": [
    "# Computation nodes\n",
    "\n",
    "Instead of directly manipulating numpy arrays, we will manipulate abstraction that contains:\n",
    "- a value (i.e. a numpy array)\n",
    "- a bool indicating if we wish to compute the gradient with respect to the value\n",
    "- the gradient with respect to the value\n",
    "- the operation to call during backpropagation\n",
    "\n",
    "There will be two kind of nodes:\n",
    "- Tensor: a generic computation node\n",
    "- Parameter: a computation node that is used to store parameters of the network. Parameters are always leaf nodes, i.e. they cannot be build from other computation nodes.\n",
    "\n",
    "Our implementation of the backward pass will be really simple and incorrect in the general case (i.e. won't work with computation graph with loops).\n",
    "We will just apply the derivative function for a given tensor and then call the ones of its antecedents, recursively.\n",
    "This simple algorithm is good enough for this exercise.\n",
    "\n",
    "Note that a real implementation of backprop will store temporary values during forward that can be used during backward to improve computation speed. We do not do that here."
   ]
  },
  {
   "cell_type": "code",
   "execution_count": 5,
   "metadata": {},
   "outputs": [],
   "source": [
    "class Tensor:\n",
    "    def __init__(self, data, require_grad=False):\n",
    "        # test type of data: should be np array\n",
    "        if isinstance(data, float):\n",
    "            data = np.array([data,])\n",
    "        if type(data) != np.ndarray:\n",
    "            raise RuntimeError(\"Input should be a numpy array\")\n",
    "\n",
    "        # store data for this tensor\n",
    "        self.data = data\n",
    "        self.require_grad = require_grad\n",
    "        \n",
    "        # this values should be set to enable autograd!\n",
    "        self.gradient = None\n",
    "        self.d = None\n",
    "        self.backptr = None\n",
    "        \n",
    "    def zero_grad(self):\n",
    "        \"\"\"\n",
    "        Set the gradient of thie tensor to 0\n",
    "        \"\"\"\n",
    "        if self.require_grad:\n",
    "            self.gradient = np.zeros_like(self.data)\n",
    "            \n",
    "    def accumulate_gradient(self, gradient):\n",
    "        \"\"\"\n",
    "        Accumulte gradient for this tensor\n",
    "        \"\"\"\n",
    "        if gradient.shape != self.data.shape:\n",
    "            raise RuntimeError(\"Invalid gradient dimension\")\n",
    "\n",
    "        if self.gradient is None:\n",
    "            self.gradient = np.copy(gradient)\n",
    "        else:\n",
    "            self.gradient += gradient\n",
    "            \n",
    "    def backward(self, g=None):\n",
    "        \"\"\"\n",
    "        The backward pass!\n",
    "        If g != None, then g is the gradient for the current node.\n",
    "        i.e. g will be != None only for the loss output.\n",
    "        \n",
    "        You should call the function stored in self.d with correct arguments,\n",
    "        and then recursively call the backward methods of tensors in the backptr list if:\n",
    "        1. they require a gradient\n",
    "        2. they are of type Tensor: check with isinstance(o, Tensor)\n",
    "        \"\"\"\n",
    "        if not self.require_grad:  # stop right now if this node does not require a gradient\n",
    "            return\n",
    "        \n",
    "        if g is not None:\n",
    "            if isinstance(g, float):\n",
    "                g = np.array([g])\n",
    "            if type(g) != np.ndarray:\n",
    "                raise RuntimeError(\"Gradient should be a numpy array\")\n",
    "            if g.shape != self.data.shape:\n",
    "                raise RuntimeError(\"Gradient of different size than the value!\")\n",
    "                \n",
    "            self.gradient = g\n",
    "        \n",
    "        # TODO\n",
    "        self.d(self.backptr, self.gradient)\n",
    "        if not(self.backptr):\n",
    "            for backptr in self.backptr:\n",
    "                if not isinstance(backptr, Parameter) and isinstance(backptr, Tensor):\n",
    "                    backptr.backward()\n",
    "        else :\n",
    "            return\n",
    "    \n",
    "    \n",
    "class Parameter(Tensor):\n",
    "    \"\"\"\n",
    "    This class will be used to store parameters of the network only!\n",
    "    \"\"\"\n",
    "    def __init__(self, data, name=\"unamed\"):\n",
    "        super().__init__(data, require_grad=True)\n",
    "        self.name = name\n",
    "        self.gamma = np.zeros_like(self.data)\n",
    "        \n",
    "    def backward(self):\n",
    "        raise RuntimeError(\"You cannot backprop from a Parameter node\")"
   ]
  },
  {
   "cell_type": "markdown",
   "metadata": {},
   "source": [
    "# Functions\n",
    "\n",
    "Functions manipulate tensors and build the required information for autograd.\n",
    "A function returns a Tensor that should have require_grad = True if at least of the arguments require a gradient."
   ]
  },
  {
   "cell_type": "code",
   "execution_count": 6,
   "metadata": {},
   "outputs": [],
   "source": [
    "def any_require_grad(l):\n",
    "    \"\"\"\n",
    "    Input:\n",
    "    - l: an iterable (e.g. a list)\n",
    "    Ouput:\n",
    "    - True if any tensor in the input requires a gradient\n",
    "    \"\"\"\n",
    "    return any(t.require_grad for t in l)"
   ]
  },
  {
   "cell_type": "code",
   "execution_count": 7,
   "metadata": {},
   "outputs": [],
   "source": [
    "# Here is an exemple with the ReLU\n",
    "def relu(x):\n",
    "    v = np.maximum(0, x.data)\n",
    "    \n",
    "    output = Tensor(v, require_grad=x.require_grad)\n",
    "    output.d = backward_relu\n",
    "    output.backptr = [x]\n",
    "    \n",
    "    return output\n",
    "\n",
    "def backward_relu(backptr, g):\n",
    "    x, = backptr\n",
    "    \n",
    "    # the gradient is accumulated in the arguments only if required\n",
    "    if x.require_grad:\n",
    "        x.accumulate_gradient(g * (x.data > 0))"
   ]
  },
  {
   "cell_type": "code",
   "execution_count": 8,
   "metadata": {},
   "outputs": [],
   "source": [
    "def tanh(x):\n",
    "    # TODO\n",
    "    data = np.tanh(x.data)\n",
    "    result = Tensor(data,x.require_grad)\n",
    "    result.d = backward_tanh\n",
    "    result.backptr = [x]\n",
    "    return result\n",
    "\n",
    "def backward_tanh(backptr, g):\n",
    "    # TODO\n",
    "    x, = backptr\n",
    "    if x.require_grid:\n",
    "        x.accumulate_gradient(g * (1 - np.power(tanh(x).data, 2)))"
   ]
  },
  {
   "cell_type": "markdown",
   "metadata": {},
   "source": [
    "Next, we implement the affine transform operation.\n",
    "You can reuse the code from the first lab exercise, with one difference: you have to compute the gradient with respect to x too!"
   ]
  },
  {
   "cell_type": "code",
   "execution_count": 9,
   "metadata": {},
   "outputs": [],
   "source": [
    "def affine_transform(W, b, x):\n",
    "    # TODO\n",
    "    data = W.data @ x.data + b.data\n",
    "    \n",
    "    result = Tensor(data, any_require_grad([W, b, x]))\n",
    "    result.d = backward_affine_transform\n",
    "    result.backptr = [W, b, x]\n",
    "    \n",
    "    return result\n",
    "\n",
    "\n",
    "def backward_affine_transform(backptr, g):\n",
    "    W, b, x = backptr\n",
    "    \n",
    "    # the gradient is accumulated in the arguments only if required\n",
    "    if W.require_grad:\n",
    "        W.accumulate_gradient(g.reshape(-1, 1) @ x.data.reshape(1, -1)) # TODO\n",
    "    if b.require_grad:\n",
    "        b.accumulate_gradient(g) # TODO\n",
    "    if isinstance(x, Tensor) and x.require_grad:\n",
    "        # (10, 100) (10,) (100,) (10,)\n",
    "        #print(W.data.shape, b.data.shape, x.data.shape, g.shape)\n",
    "        x.accumulate_gradient(g @ W.data) # TODO"
   ]
  },
  {
   "cell_type": "code",
   "execution_count": 10,
   "metadata": {},
   "outputs": [],
   "source": [
    "# we use an underscore because this function does not manipulate tensors:\n",
    "# it is exactly the same as in the previous exercise\n",
    "def _softmax(x):\n",
    "    # TODO\n",
    "    b = max(x)\n",
    "    y = np.exp(x - b)\n",
    "    return y / y.sum()\n",
    "\n",
    "\n",
    "def nll(x, gold):\n",
    "    # TODO\n",
    "    data = -x.data[gold] + np.log((np.exp(x.data)).sum())\n",
    "    result = Tensor(data, require_grad=x.require_grad)\n",
    "    result.d = backward_nll\n",
    "    result.backptr = [x]\n",
    "    return result\n",
    "\n",
    "\n",
    "def backward_nll(backptr, gold_label, g):\n",
    "    #TODO\n",
    "    x, = backptr\n",
    "    \n",
    "    if x.require_grad:\n",
    "        g_x = _softmax(x.data)\n",
    "        \n",
    "        g_x[gold_label]-= 1\n",
    "        x.accumulate_gradient(g * g_x)\n",
    "        x.backward()"
   ]
  },
  {
   "cell_type": "markdown",
   "metadata": {},
   "source": [
    "# Module\n",
    "\n",
    "Neural networks or parts of neural networks will be stored in Modules.\n",
    "They implement method to retrieve all parameters of the network and subnetwork."
   ]
  },
  {
   "cell_type": "code",
   "execution_count": 11,
   "metadata": {},
   "outputs": [],
   "source": [
    "class Module:\n",
    "    def __init__(self):\n",
    "        raise NotImplemented(\"\")\n",
    "        \n",
    "    def parameters(self):\n",
    "        ret = []\n",
    "        for name in dir(self):\n",
    "            o = self.__getattribute__(name)\n",
    "\n",
    "            if type(o) is Parameter:\n",
    "                ret.append(o)\n",
    "            if isinstance(o, Module) or isinstance(o, ModuleList):\n",
    "                ret.extend(o.parameters())\n",
    "        return ret\n",
    "\n",
    "# if you want to store a list of Parameters or Module,\n",
    "# you must store them in a ModuleList instead of a python list,\n",
    "# in order to collect the parameters correctly\n",
    "class ModuleList(list):\n",
    "    def parameters(self):\n",
    "        ret = []\n",
    "        for m in self:\n",
    "            if type(m) is Parameter:\n",
    "                ret.append(m)\n",
    "            elif isinstance(m, Module) or isinstance(m, ModuleList):\n",
    "                ret.extend(m.parameters())\n",
    "        return ret"
   ]
  },
  {
   "cell_type": "markdown",
   "metadata": {},
   "source": [
    "# Initialization and optimization"
   ]
  },
  {
   "cell_type": "code",
   "execution_count": 12,
   "metadata": {},
   "outputs": [],
   "source": [
    "def zero_init(b):\n",
    "    b[:] = 0.\n",
    "\n",
    "def glorot_init(W):\n",
    "    # TODO\n",
    "    initialization_range = np.sqrt(6.0 / (W.shape[0] + W.shape[1]))\n",
    "    W[:] = np.random.uniform(low = -initialization_range, high = initialization_range, size = W.shape)\n",
    "\n",
    "# Look at slides for the formula!\n",
    "def kaiming_init(W):\n",
    "    # TODO\n",
    "    initialization_range = np.sqrt(6.0 / W.shape[1])\n",
    "    W[:] = np.random.uniform(low = -initialization_range, high = initialization_range, size = W.shape)"
   ]
  },
  {
   "cell_type": "code",
   "execution_count": 13,
   "metadata": {},
   "outputs": [],
   "source": [
    "# simple gradient descent optimizer\n",
    "class SGD:\n",
    "    def __init__(self, params, lr=0.1):\n",
    "        self.params = params\n",
    "        self.lr = lr\n",
    "        \n",
    "    def step(self):\n",
    "        for p in self.params:\n",
    "            p.data[:] = p.data - self.lr * p.gradient\n",
    "        \n",
    "    def zero_grad(self):\n",
    "        for p in self.params:\n",
    "            p.zero_grad()"
   ]
  },
  {
   "cell_type": "markdown",
   "metadata": {},
   "source": [
    "# Networks and training loop\n",
    "\n",
    "We first create a simple linear classifier, similar to the first lab exercise."
   ]
  },
  {
   "cell_type": "code",
   "execution_count": 14,
   "metadata": {},
   "outputs": [],
   "source": [
    "class LinearNetwork(Module):\n",
    "    def __init__(self, dim_input, dim_output):\n",
    "        # build the parameters\n",
    "        self.W = Parameter(np.ndarray((dim_output, dim_input)))\n",
    "        self.b = Parameter(np.ndarray((dim_output,)))\n",
    "        \n",
    "        self.init_parameters()\n",
    "        \n",
    "    def init_parameters(self):\n",
    "        # init parameters of the network (i.e W and b)\n",
    "        glorot_init(self.W.data)\n",
    "        zero_init(self.b.data)        \n",
    "        \n",
    "    def forward(self, x):\n",
    "        return  affine_transform(self.W, self.b, x)"
   ]
  },
  {
   "cell_type": "markdown",
   "metadata": {},
   "source": [
    "We will train several neural networks.\n",
    "Therefore, we encapsulate the training loop in a function.\n",
    "\n",
    "**warning**: you have to call optimizer.zero_grad() before each backward pass to reinitialize the gradient of the parameters!"
   ]
  },
  {
   "cell_type": "code",
   "execution_count": 15,
   "metadata": {},
   "outputs": [],
   "source": [
    "def calc_accuracy(data, network):\n",
    "    s = 0\n",
    "    for i in range(len(dev_data[0])):\n",
    "        d = data[0][i]\n",
    "        l = data[1][i]\n",
    "        tensor = network.forward(Tensor(d))\n",
    "        if (np.argmax(tensor.data) == l):\n",
    "            s += 1\n",
    "    \n",
    "    return s / len(data[0])"
   ]
  },
  {
   "cell_type": "code",
   "execution_count": 16,
   "metadata": {},
   "outputs": [],
   "source": [
    "def grad_reinit(data, network):\n",
    "    s = 0\n",
    "    for i in range(len(data[0])):\n",
    "        d = data[0][i]\n",
    "        l = data[1][i]                        \n",
    "\n",
    "        tensor = network.forward(Tensor(d))\n",
    "        loss = nll(tensor, l)\n",
    "\n",
    "        optimizer.zero_grad()\n",
    "        backward_nll(loss.backptr, l , g=1.)\n",
    "        optimizer.step()\n",
    "\n",
    "        if(np.argmax(tensor.data) == l):\n",
    "            s += 1\n",
    "    \n",
    "    return s / len(data[0])"
   ]
  },
  {
   "cell_type": "code",
   "execution_count": 17,
   "metadata": {},
   "outputs": [],
   "source": [
    "def training_loop(network, optimizer, train_data, dev_data, n_epochs=10):\n",
    "    # TODO!\n",
    "    # almost the same as last week\n",
    "    dev_a = []\n",
    "    train_a = []\n",
    " \n",
    "    train_a.append(calc_accuracy(train_data, network)) \n",
    "    dev_a.append(calc_accuracy(dev_data, network))\n",
    "\n",
    "    for _ in range(n_epochs):\n",
    "        train_accuracy = grad_reinit(train_data, network)\n",
    "        dev_a.append(calc_accuracy(dev_data, network))\n",
    "        train_a.append(train_accuracy)\n",
    "\n",
    "    \n",
    "    return dev_a, train_a"
   ]
  },
  {
   "cell_type": "code",
   "execution_count": 18,
   "metadata": {},
   "outputs": [],
   "source": [
    "def plotter(y1, y2, label1, label2, xlabel, ylabel):\n",
    "    plt.xlabel(xlabel)\n",
    "    plt.ylabel(ylabel)\n",
    "    \n",
    "    plt.plot([i for i in range(len(y1))], y1, label = label1);\n",
    "    plt.plot([i for i in range(len(y2))], y2, label = label2);\n",
    "    plt.legend(loc=\"best\")"
   ]
  },
  {
   "cell_type": "code",
   "execution_count": 19,
   "metadata": {
    "scrolled": true
   },
   "outputs": [
    {
     "name": "stdout",
     "output_type": "stream",
     "text": [
      "Accurancy on Test Dataset is 0.9157.\n"
     ]
    },
    {
     "data": {
      "text/plain": "<Figure size 432x288 with 1 Axes>",
      "image/png": "[encoded data removed]"
     },
     "metadata": {
      "needs_background": "light"
     },
     "output_type": "display_data"
    }
   ],
   "source": [
    "dim_input = 28*28\n",
    "dim_output = 10\n",
    "\n",
    "network = LinearNetwork(dim_input, dim_output)\n",
    "optimizer = SGD(network.parameters(), 0.01)\n",
    "\n",
    "dev, train = training_loop(network, optimizer, train_data, dev_data, n_epochs=5)\n",
    "\n",
    "plotter(dev, train, \"Dev Accuracy\", \"Train Accuracy\", \"Epochs\", \"Accuracy\");\n",
    "\n",
    "print(\"Accurancy on Test Dataset is {}.\".format(calc_accuracy(test_data, network)))"
   ]
  },
  {
   "cell_type": "markdown",
   "metadata": {},
   "source": [
    "After you finished the linear network, you can move to a deep network!"
   ]
  },
  {
   "cell_type": "code",
   "execution_count": 20,
   "metadata": {},
   "outputs": [],
   "source": [
    "class DeepNetwork(Module):\n",
    "    def __init__(self, dim_input, dim_output, hidden_dim, n_layers, Tanh=False):\n",
    "        self.W = ModuleList()\n",
    "        self.b = ModuleList()\n",
    "        \n",
    "        # TODO...\n",
    "        if Tanh:\n",
    "            self.activation_function = tanh\n",
    "        else:\n",
    "            self.activation_function = relu\n",
    "        \n",
    "        for i in range(n_layers):\n",
    "            self.W.append(Parameter(np.ndarray((hidden_dim, dim_input))))\n",
    "            self.b.append(Parameter(np.ndarray((hidden_dim))))\n",
    "            \n",
    "        self.output_proj = Parameter(np.ndarray((dim_output, hidden_dim))) \n",
    "        self.output_bias = Parameter(np.ndarray((dim_output)))\n",
    "        \n",
    "        self.init_parameters(Tanh)\n",
    "        \n",
    "    def init_parameters(self, Tanh):\n",
    "        # TODO...\n",
    "        glorot_init(self.output_proj.data)\n",
    "        zero_init(self.output_proj.data)\n",
    "            \n",
    "        if Tanh:\n",
    "            for W in self.W:\n",
    "                glorot_init(W.data)\n",
    "        else: \n",
    "            for W in self.W:\n",
    "                kaiming_init(W.data)\n",
    "                \n",
    "        for b in self.b:\n",
    "            zero_init(b.data)\n",
    "\n",
    "    def forward(self, x):\n",
    "        # TODO\n",
    "        res = x\n",
    "        for W, b in zip(self.W , self.b):\n",
    "            res = affine_transform(W, b, res)\n",
    "            res = self.activation_function(res)\n",
    "\n",
    "        res = affine_transform(self.output_proj, self.output_bias, res)\n",
    "        return res"
   ]
  },
  {
   "cell_type": "code",
   "execution_count": 21,
   "metadata": {},
   "outputs": [
    {
     "name": "stdout",
     "output_type": "stream",
     "text": [
      "Accurancy on Test Dataset is 0.8646.\n"
     ]
    },
    {
     "data": {
      "text/plain": "<Figure size 432x288 with 1 Axes>",
      "image/png": "[encoded data removed]"
     },
     "metadata": {
      "needs_background": "light"
     },
     "output_type": "display_data"
    }
   ],
   "source": [
    "dim_input = 28*28\n",
    "dim_output = 10\n",
    "\n",
    "network = DeepNetwork(dim_input, dim_output, 100, 1)\n",
    "optimizer = SGD(network.parameters(), 0.01)\n",
    "\n",
    "dev, train = training_loop(network, optimizer, train_data, dev_data, n_epochs=5)\n",
    "\n",
    "plotter(dev, train, \"Dev Accuracy\", \"Train Accuracy\", \"Epochs\", \"Accuracy\");\n",
    "\n",
    "print(\"Accurancy on Test Dataset is {}.\".format(calc_accuracy(test_data, network)))"
   ]
  },
  {
   "cell_type": "markdown",
   "metadata": {},
   "source": [
    "# Bonus\n",
    "\n",
    "You can try to implement a momentum SGD optimizer!\n",
    "Note that you have to keep track of the velocity for each parameter in the optimizer."
   ]
  },
  {
   "cell_type": "code",
   "execution_count": 22,
   "metadata": {},
   "outputs": [],
   "source": [
    "# simple gradient descent optimizer\n",
    "class SGD_optimizer:\n",
    "    def __init__(self, params, eps, mu):\n",
    "        self.params = params\n",
    "        self.eps = eps\n",
    "        self.mu = mu \n",
    "        \n",
    "        \n",
    "    def step(self):\n",
    "        for p in self.params:\n",
    "            p.gamma[:] = self.mu*p.gamma + p.gradient\n",
    "            p.data[:] = p.data - self.eps* p.gamma\n",
    "\n",
    "        \n",
    "    def zero_grad(self):\n",
    "        for p in self.params:\n",
    "            p.zero_grad()"
   ]
  },
  {
   "cell_type": "code",
   "execution_count": 23,
   "metadata": {},
   "outputs": [
    {
     "name": "stdout",
     "output_type": "stream",
     "text": [
      "Accurancy on Test Dataset is 0.8966.\n"
     ]
    },
    {
     "data": {
      "text/plain": "<Figure size 432x288 with 1 Axes>",
      "image/png": "[encoded data removed]"
     },
     "metadata": {
      "needs_background": "light"
     },
     "output_type": "display_data"
    }
   ],
   "source": [
    "dim_input = 28*28\n",
    "dim_output = 10\n",
    "\n",
    "network = DeepNetwork(dim_input, dim_output, 100, 1, Tanh=True)\n",
    "optimizer = SGD_optimizer(network.parameters(), 0.01, 0.5)\n",
    "\n",
    "dev, train = training_loop(network, optimizer, train_data, dev_data, n_epochs=5)\n",
    "\n",
    "plotter(dev, train, \"Dev Accuracy\", \"Train Accuracy\", \"Epochs\", \"Accuracy\");\n",
    "\n",
    "print(\"Accurancy on Test Dataset is {}.\".format(calc_accuracy(test_data, network)))"
   ]
  },
  {
   "cell_type": "code",
   "execution_count": 23,
   "metadata": {},
   "outputs": [],
   "source": []
  }
 ],
 "metadata": {
  "kernelspec": {
   "display_name": "Python 3 (ipykernel)",
   "language": "python",
   "name": "python3"
  },
  "language_info": {
   "codemirror_mode": {
    "name": "ipython",
    "version": 3
   },
   "file_extension": ".py",
   "mimetype": "text/x-python",
   "name": "python",
   "nbconvert_exporter": "python",
   "pygments_lexer": "ipython3",
   "version": "3.10.4"
  }
 },
 "nbformat": 4,
 "nbformat_minor": 2
}